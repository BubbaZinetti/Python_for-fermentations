{
 "cells": [
  {
   "cell_type": "code",
   "execution_count": 2,
   "metadata": {},
   "outputs": [],
   "source": [
    "import pandas as pd\n",
    "import numpy as np\n",
    "import matplotlib.pyplot as plt\n",
    "#Insert complete path to the excel file and index of the worksheet 9Mar2021_batch\n",
    "df = pd.read_excel(\"9Mar2021_batch.xlsx\", sheet_name = 1 )\n",
    "df.columns = df.columns.str.strip()#aparrently there are some spaces in the excel file, this strips those out.\n",
    "# insert the name of the column as a string in brackets\n",
    "Time = list(df['Time'])\n",
    "pH = list(df['pH']) \n",
    "DO = list(df['DO'])\n",
    "Agit = list(df['Agit'])\n",
    "GasFlow = list(df['GasFlow'])\n",
    "Temp = list(df['Temp'])\n"
   ]
  },
  {
   "cell_type": "code",
   "execution_count": 5,
   "metadata": {
    "scrolled": false
   },
   "outputs": [
    {
     "ename": "ValueError",
     "evalue": "too many values to unpack (expected 1)",
     "output_type": "error",
     "traceback": [
      "\u001b[0;31m---------------------------------------------------------------------------\u001b[0m",
      "\u001b[0;31mValueError\u001b[0m                                Traceback (most recent call last)",
      "\u001b[0;32m<ipython-input-5-97e016dc1996>\u001b[0m in \u001b[0;36m<module>\u001b[0;34m\u001b[0m\n\u001b[1;32m     72\u001b[0m \u001b[0;31m# Plot the data\u001b[0m\u001b[0;34m\u001b[0m\u001b[0;34m\u001b[0m\u001b[0;34m\u001b[0m\u001b[0m\n\u001b[1;32m     73\u001b[0m \u001b[0;34m\u001b[0m\u001b[0m\n\u001b[0;32m---> 74\u001b[0;31m \u001b[0mp1\u001b[0m\u001b[0;34m,\u001b[0m \u001b[0;34m=\u001b[0m \u001b[0mhost\u001b[0m\u001b[0;34m.\u001b[0m\u001b[0mplot\u001b[0m\u001b[0;34m(\u001b[0m\u001b[0mtime\u001b[0m\u001b[0;34m,\u001b[0m \u001b[0mtemperature\u001b[0m\u001b[0;34m,\u001b[0m    \u001b[0mcolor\u001b[0m\u001b[0;34m=\u001b[0m\u001b[0mcolor1\u001b[0m\u001b[0;34m,\u001b[0m \u001b[0mlabel\u001b[0m\u001b[0;34m=\u001b[0m\u001b[0;34m\"Temperature\"\u001b[0m\u001b[0;34m)\u001b[0m\u001b[0;34m\u001b[0m\u001b[0;34m\u001b[0m\u001b[0m\n\u001b[0m\u001b[1;32m     75\u001b[0m \u001b[0;34m\u001b[0m\u001b[0m\n\u001b[1;32m     76\u001b[0m \u001b[0mp2\u001b[0m\u001b[0;34m,\u001b[0m \u001b[0;34m=\u001b[0m \u001b[0mpar1\u001b[0m\u001b[0;34m.\u001b[0m\u001b[0mplot\u001b[0m\u001b[0;34m(\u001b[0m\u001b[0mtime\u001b[0m\u001b[0;34m,\u001b[0m \u001b[0magitation\u001b[0m\u001b[0;34m,\u001b[0m    \u001b[0mcolor\u001b[0m\u001b[0;34m=\u001b[0m\u001b[0mcolor2\u001b[0m\u001b[0;34m,\u001b[0m \u001b[0mlabel\u001b[0m\u001b[0;34m=\u001b[0m\u001b[0;34m\"Agitation\"\u001b[0m\u001b[0;34m)\u001b[0m\u001b[0;34m\u001b[0m\u001b[0;34m\u001b[0m\u001b[0m\n",
      "\u001b[0;31mValueError\u001b[0m: too many values to unpack (expected 1)"
     ]
    },
    {
     "data": {
      "image/png": "[encoded data removed]",
      "text/plain": [
       "<Figure size 576x360 with 5 Axes>"
      ]
     },
     "metadata": {
      "needs_background": "light"
     },
     "output_type": "display_data"
    }
   ],
   "source": [
    "#%% Writing  data\n",
    "\n",
    "time = [Time] # Hours\n",
    "\n",
    "temperature = [Temp] # dC\n",
    "\n",
    "agitation = [Agit] # rpm\n",
    "\n",
    "DO = [DO] # %\n",
    "\n",
    "pH = [pH] # pH\n",
    "\n",
    "gas_flow = [GasFlow]  #vvm\n",
    "\n",
    "#%% Set up the plot \n",
    "\n",
    "fig, host = plt.subplots(figsize=(8,5)) # (width, height) in inches\n",
    "\n",
    "\n",
    "# Define the number of secondary axis here    \n",
    "\n",
    "par1 = host.twinx()\n",
    "\n",
    "par2 = host.twinx()\n",
    "\n",
    "par3 = host.twinx()\n",
    "\n",
    "par4 = host.twinx()\n",
    "\n",
    "# Define the limits of each axis plot here\n",
    "\n",
    "host.set_xlim(0, 48)      # Time (check maximum hours)\n",
    "\n",
    "host.set_ylim(0, 30)     # Temperature\n",
    "\n",
    "par1.set_ylim(100, 800)  # Agitation\n",
    "\n",
    "par2.set_ylim(0, 110)    # DO\n",
    "\n",
    "par3.set_ylim(3, 7)      # pH\n",
    "\n",
    "par4.set_ylim(0, 30)  # gas_flow\n",
    "\n",
    "\n",
    "# Set the label of the different  axis here\n",
    "\n",
    "host.set_xlabel(\"Time\")\n",
    "\n",
    "host.set_ylabel(\"Temperature\")\n",
    "\n",
    "par1.set_ylabel(\"Agitation\")\n",
    "\n",
    "par2.set_ylabel(\"DO\")\n",
    "\n",
    "par3.set_ylabel(\"pH\")\n",
    "\n",
    "par4.set_ylabel(\"gas_flow\")\n",
    "\n",
    "\n",
    "# Set the colormaps \n",
    "\n",
    "color1 = plt.cm.plasma(0) \n",
    "\n",
    "color2 = plt.cm.plasma(0.25)\n",
    "\n",
    "color3 = plt.cm.plasma(0.5)\n",
    "\n",
    "color4 = plt.cm.plasma(0.75)\n",
    "\n",
    "color5 = plt.cm.plasma(0.9)\n",
    "\n",
    "# Plot the data\n",
    "\n",
    "p1, = host.plot(time, temperature,    color=color1, label=\"Temperature\")\n",
    "\n",
    "p2, = par1.plot(time, agitation,    color=color2, label=\"Agitation\")\n",
    "\n",
    "p3, = par2.plot(time, DO, color=color3, label=\"DO\")\n",
    "\n",
    "p4, = par3.plot(time, pH, color=color4, label=\"pH\")\n",
    "\n",
    "p5, = par4.plot(time, gas_flow, color=color5, label=\"Gas_flow\")\n",
    "\n",
    "lns = [p1, p2, p3, p4, p5]\n",
    "\n",
    "host.legend(handles=lns, loc='best')\n",
    "\n",
    "\n",
    "\n",
    "# right, left, top, bottom\n",
    "\n",
    "par2.spines['right'].set_position(('outward', 60))\n",
    "\n",
    "par3.spines['right'].set_position(('outward', 120))\n",
    "\n",
    "par4.spines['right'].set_position(('outward', 180))\n",
    "\n",
    "\n",
    "# no x-ticks                 \n",
    "\n",
    "par2.xaxis.set_ticks([])\n",
    "\n",
    "par3.xaxis.set_ticks([])\n",
    "\n",
    "par4.xaxis.set_ticks([])\n",
    "\n",
    "\n",
    "\n",
    "\n",
    "host.yaxis.label.set_color(p1.get_color())\n",
    "\n",
    "par1.yaxis.label.set_color(p2.get_color())\n",
    "\n",
    "par2.yaxis.label.set_color(p3.get_color())\n",
    "\n",
    "par3.yaxis.label.set_color(p4.get_color())\n",
    "\n",
    "par4.yaxis.label.set_color(p5.get_color())\n",
    "\n",
    "\n",
    "\n",
    "\n",
    "# Adjust spacings w.r.t. figsize\n",
    "\n",
    "fig.tight_layout()\n",
    "\n",
    "\n",
    "\n",
    "\n",
    "\n",
    "\n",
    "\n",
    "#%% Save the figure\n",
    "\n",
    "plt.savefig(\"fermentation_profile.pdf\")"
   ]
  },
  {
   "cell_type": "code",
   "execution_count": 7,
   "metadata": {
    "scrolled": true
   },
   "outputs": [
    {
     "name": "stdout",
     "output_type": "stream",
     "text": [
      "        Time        pH         DO  Agit  GasFlow       Temp\n",
      "2562  48.588  5.552976  40.155697   284     1.62  29.998638\n",
      "2563  48.604  5.555764  40.144722   283     1.62  30.003561\n",
      "2564  48.621  5.555764  40.100822   283     1.62  29.993715\n",
      "2565  48.638  5.550188  39.881332   283     1.62  29.998638\n",
      "2566  48.654  5.555764  39.705742   284     1.62  29.996178\n"
     ]
    }
   ],
   "source": [
    "print(df.tail())"
   ]
  },
  {
   "cell_type": "code",
   "execution_count": null,
   "metadata": {
    "scrolled": false
   },
   "outputs": [],
   "source": []
  },
  {
   "cell_type": "code",
   "execution_count": null,
   "metadata": {},
   "outputs": [],
   "source": []
  }
 ],
 "metadata": {
  "kernelspec": {
   "display_name": "Python 3",
   "language": "python",
   "name": "python3"
  },
  "language_info": {
   "codemirror_mode": {
    "name": "ipython",
    "version": 3
   },
   "file_extension": ".py",
   "mimetype": "text/x-python",
   "name": "python",
   "nbconvert_exporter": "python",
   "pygments_lexer": "ipython3",
   "version": "3.8.5"
  }
 },
 "nbformat": 4,
 "nbformat_minor": 4
}
