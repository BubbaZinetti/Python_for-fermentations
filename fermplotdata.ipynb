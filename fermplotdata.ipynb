{
 "cells": [
  {
   "cell_type": "code",
   "execution_count": null,
   "metadata": {},
   "outputs": [],
   "source": [
    "import pandas as pd\n",
    "import numpy as np\n",
    "import matplotlib as plt\n",
    "#Insert complete path to the excel file and index of the worksheet 09Mar2021_batch\n",
    "df = pd.read_excel(\"9Mar2021_batch.xlsx\", sheet_name = 1 )\n",
    "# insert the name of the column as a string in brackets\n",
    "Time = list(df['Time'])\n",
    "#pH = list(df['pH']) \n",
    "#DO = list(df['DO'])\n",
    "#Agit = list(df['Agit'])\n",
    "#GasFlow = list(df['GasFlow'])\n",
    "#Temp = list(df['Temp'])\n",
    "\n",
    "\n",
    "if 'Time' in df:\n",
    "    print(\"Time column is present\")\n",
    "else:\n",
    "    print(\"Time column is not here. \")\n",
    "\n",
    "print(Time)   \n",
    "#print(pH)\n",
    "#print(DO)\n",
    "#print(Agit)\n",
    "#print(GasFlow)\n",
    "#print(Temp)\n",
    "\n"
   ]
  },
  {
   "cell_type": "code",
   "execution_count": null,
   "metadata": {
    "scrolled": false
   },
   "outputs": [],
   "source": [
    "import pandas as pd\n",
    "import numpy as np\n",
    "import matplotlib as plt\n",
    "#Insert complete path to the excel file and index of the worksheet 09Mar2021_batch\n",
    "df = pd.read_excel(\"9Mar2021_batch.xlsx\", sheet_name=1)\n",
    "print(df.head())"
   ]
  },
  {
   "cell_type": "code",
   "execution_count": 20,
   "metadata": {
    "scrolled": true
   },
   "outputs": [
    {
     "name": "stdout",
     "output_type": "stream",
     "text": [
      "['Time ', 'pH', 'DO', 'Agit', 'GasFlow', 'Temp']\n"
     ]
    }
   ],
   "source": [
    "import pandas as pd\n",
    "import numpy as np\n",
    "import matplotlib as plt\n",
    "#Insert complete path to the excel file and index of the worksheet 09Mar2021_batch\n",
    "df = pd.read_excel(\"9Mar2021_batch.xlsx\", sheet_name=1)\n",
    "print(df.columns.tolist())"
   ]
  },
  {
   "cell_type": "code",
   "execution_count": null,
   "metadata": {},
   "outputs": [],
   "source": []
  }
 ],
 "metadata": {
  "kernelspec": {
   "display_name": "Python 3",
   "language": "python",
   "name": "python3"
  },
  "language_info": {
   "codemirror_mode": {
    "name": "ipython",
    "version": 3
   },
   "file_extension": ".py",
   "mimetype": "text/x-python",
   "name": "python",
   "nbconvert_exporter": "python",
   "pygments_lexer": "ipython3",
   "version": "3.8.5"
  }
 },
 "nbformat": 4,
 "nbformat_minor": 4
}
