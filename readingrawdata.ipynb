{
 "cells": [
  {
   "cell_type": "code",
   "execution_count": 19,
   "metadata": {
    "scrolled": false
   },
   "outputs": [],
   "source": [
    "import pandas as pd\n",
    "import numpy as np\n",
    "import matplotlib.pyplot as plt\n",
    "#Insert complete path to the excel file and index of the worksheet 9Mar2021_batch\n",
    "#df = pd.read_excel(\"9Mar2021_batch.xlsx\", sheet_name = 1 )  this one works for edited excel sheet\n",
    "#Using usecols, skiprows, and nrows.  With nrows must know length of rows\n",
    "#Giving the columns the correct names\n",
    "columns = ['Time' , 'pH' , 'DO' , 'Agit' , 'GasFlow' , 'Temp']\n",
    "#use names=columns in df=...\n",
    "df = pd.read_excel(\"9Mar2021_batch.xlsx\", sheet_name = 0,header=None, names=columns , usecols=\"A,C,E,G,I,K\", skiprows=range(6), nrows=2570)\n",
    "\n",
    "#df.columns = df.columns.str.strip()\n"
   ]
  },
  {
   "cell_type": "code",
   "execution_count": 20,
   "metadata": {
    "scrolled": true
   },
   "outputs": [
    {
     "name": "stdout",
     "output_type": "stream",
     "text": [
      "    Time        pH          DO  Agit  GasFlow       Temp\n",
      "0  0.019  5.364922  100.284981   750     1.98  30.190639\n",
      "1  0.035  5.397919  101.239769   750     1.96  30.202948\n",
      "2  0.052  5.419917   95.939362   750     1.92  30.183254\n",
      "3  0.069  5.285318   95.346458   200     1.98  30.151253\n",
      "4  0.085  5.313200   95.533028   200     2.00  30.109406\n"
     ]
    }
   ],
   "source": [
    "print(df.head())"
   ]
  },
  {
   "cell_type": "code",
   "execution_count": null,
   "metadata": {
    "scrolled": true
   },
   "outputs": [],
   "source": []
  },
  {
   "cell_type": "code",
   "execution_count": null,
   "metadata": {},
   "outputs": [],
   "source": []
  }
 ],
 "metadata": {
  "kernelspec": {
   "display_name": "Python 3",
   "language": "python",
   "name": "python3"
  },
  "language_info": {
   "codemirror_mode": {
    "name": "ipython",
    "version": 3
   },
   "file_extension": ".py",
   "mimetype": "text/x-python",
   "name": "python",
   "nbconvert_exporter": "python",
   "pygments_lexer": "ipython3",
   "version": "3.8.5"
  }
 },
 "nbformat": 4,
 "nbformat_minor": 4
}
